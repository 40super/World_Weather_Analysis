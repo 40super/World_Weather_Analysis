{
 "cells": [
  {
   "cell_type": "code",
   "execution_count": 18,
   "id": "0959c0c6",
   "metadata": {},
   "outputs": [],
   "source": [
    "import random\n",
    "import numpy as np\n",
    "import timeit"
   ]
  },
  {
   "cell_type": "code",
   "execution_count": 3,
   "id": "756c1029",
   "metadata": {},
   "outputs": [
    {
     "data": {
      "text/plain": [
       "-76"
      ]
     },
     "execution_count": 3,
     "metadata": {},
     "output_type": "execute_result"
    }
   ],
   "source": [
    "random.randint(-90,90)"
   ]
  },
  {
   "cell_type": "code",
   "execution_count": 5,
   "id": "dd878950",
   "metadata": {},
   "outputs": [
    {
     "data": {
      "text/plain": [
       "0.7830560639139202"
      ]
     },
     "execution_count": 5,
     "metadata": {},
     "output_type": "execute_result"
    }
   ],
   "source": [
    "random.random()"
   ]
  },
  {
   "cell_type": "code",
   "execution_count": 9,
   "id": "7a970ee4",
   "metadata": {},
   "outputs": [
    {
     "data": {
      "text/plain": [
       "72.84947252605248"
      ]
     },
     "execution_count": 9,
     "metadata": {},
     "output_type": "execute_result"
    }
   ],
   "source": [
    "random_number = random.randint(-90,89) + random.random()\n",
    "random_number"
   ]
  },
  {
   "cell_type": "code",
   "execution_count": 10,
   "id": "f13ac3d7",
   "metadata": {},
   "outputs": [],
   "source": [
    "x = 1\n",
    "latitudes = []\n",
    "\n",
    "while x < 11:\n",
    "    random_lat = random.randint(-90,89)+ random.random()\n",
    "    latitudes.append(random_lat)\n",
    "    x+=1"
   ]
  },
  {
   "cell_type": "code",
   "execution_count": 11,
   "id": "472c6dd7",
   "metadata": {},
   "outputs": [
    {
     "data": {
      "text/plain": [
       "[52.91608886994734,\n",
       " 65.99256343166554,\n",
       " -10.967399938235154,\n",
       " -88.88247689891271,\n",
       " 14.117911487589522,\n",
       " -5.0318527435032046,\n",
       " -38.9984046951323,\n",
       " 11.533723353977692,\n",
       " 74.45256073632123,\n",
       " 30.750487133362878]"
      ]
     },
     "execution_count": 11,
     "metadata": {},
     "output_type": "execute_result"
    }
   ],
   "source": [
    "latitudes"
   ]
  },
  {
   "cell_type": "code",
   "execution_count": 12,
   "id": "8ced9e51",
   "metadata": {},
   "outputs": [
    {
     "data": {
      "text/plain": [
       "-46"
      ]
     },
     "execution_count": 12,
     "metadata": {},
     "output_type": "execute_result"
    }
   ],
   "source": [
    "random.randrange(-90,90,step=1)"
   ]
  },
  {
   "cell_type": "code",
   "execution_count": 13,
   "id": "a8fce09d",
   "metadata": {},
   "outputs": [
    {
     "data": {
      "text/plain": [
       "15"
      ]
     },
     "execution_count": 13,
     "metadata": {},
     "output_type": "execute_result"
    }
   ],
   "source": [
    "random.randrange(-90,90,step=3)"
   ]
  },
  {
   "cell_type": "code",
   "execution_count": 14,
   "id": "6c69b248",
   "metadata": {},
   "outputs": [
    {
     "data": {
      "text/plain": [
       "-43.06707247691698"
      ]
     },
     "execution_count": 14,
     "metadata": {},
     "output_type": "execute_result"
    }
   ],
   "source": [
    "random.uniform(-90,90)"
   ]
  },
  {
   "cell_type": "code",
   "execution_count": 16,
   "id": "2f7fa12b",
   "metadata": {},
   "outputs": [
    {
     "data": {
      "text/plain": [
       "30.60167128870755"
      ]
     },
     "execution_count": 16,
     "metadata": {},
     "output_type": "execute_result"
    }
   ],
   "source": [
    "np.random.uniform(-90.000, 90.000)"
   ]
  },
  {
   "cell_type": "code",
   "execution_count": 17,
   "id": "af4a0994",
   "metadata": {},
   "outputs": [
    {
     "data": {
      "text/plain": [
       "array([-85.0967989 ,  37.52523262, -12.38881419, -87.45065521,\n",
       "        65.3587948 , -42.68399579,  59.59509497, -81.03937933,\n",
       "       -71.56937482, -42.01091504, -47.58376702,  75.79806503,\n",
       "        19.22721259, -71.41485074, -11.91154026,  39.26872208,\n",
       "        69.72024273, -24.5715661 , -59.18889224,  41.27168   ,\n",
       "        33.15076128,  60.55419448, -15.76256994, -47.47178887,\n",
       "        34.02965307,  59.77614196, -86.37572834,  19.18529303,\n",
       "        -4.95449208, -39.2549774 ,  -4.72864136, -27.8404402 ,\n",
       "         3.22498802,  11.98425073, -67.42492359, -81.51811548,\n",
       "        10.31810541,  47.84271406, -12.95711395, -32.2031421 ,\n",
       "        49.59649626,   9.28968131,  -6.63338585,  61.53526615,\n",
       "        83.29213002,  14.5320243 ,  60.02510667,  56.03430107,\n",
       "        69.46687913,  66.41806079])"
      ]
     },
     "execution_count": 17,
     "metadata": {},
     "output_type": "execute_result"
    }
   ],
   "source": [
    "np.random.uniform(-90.000,90.000,size=50)"
   ]
  },
  {
   "cell_type": "code",
   "execution_count": 19,
   "id": "ec14c447",
   "metadata": {},
   "outputs": [
    {
     "name": "stdout",
     "output_type": "stream",
     "text": [
      "13.9 µs ± 56 ns per loop (mean ± std. dev. of 7 runs, 100,000 loops each)\n"
     ]
    }
   ],
   "source": [
    "%timeit np.random.uniform(-90.000,90.000,size=1500)"
   ]
  },
  {
   "cell_type": "code",
   "execution_count": 20,
   "id": "dd0eb7e0",
   "metadata": {},
   "outputs": [
    {
     "name": "stdout",
     "output_type": "stream",
     "text": [
      "1.1 ms ± 9.18 µs per loop (mean ± std. dev. of 7 runs, 1,000 loops each)\n"
     ]
    }
   ],
   "source": [
    "def latitudes(size):\n",
    "    latitudes = []\n",
    "    x = 0\n",
    "    while x < (size):\n",
    "        random_lat = random.randint(-90, 90) + random.random()\n",
    "        latitudes.append(random_lat)\n",
    "        x += 1\n",
    "    return latitudes\n",
    "# Call the function with 1500.\n",
    "%timeit latitudes(1500)"
   ]
  },
  {
   "cell_type": "code",
   "execution_count": null,
   "id": "5498e4f2",
   "metadata": {},
   "outputs": [],
   "source": []
  }
 ],
 "metadata": {
  "kernelspec": {
   "display_name": "PythonData",
   "language": "python",
   "name": "pythondata"
  },
  "language_info": {
   "codemirror_mode": {
    "name": "ipython",
    "version": 3
   },
   "file_extension": ".py",
   "mimetype": "text/x-python",
   "name": "python",
   "nbconvert_exporter": "python",
   "pygments_lexer": "ipython3",
   "version": "3.9.12"
  }
 },
 "nbformat": 4,
 "nbformat_minor": 5
}
